{
  "nbformat": 4,
  "nbformat_minor": 0,
  "metadata": {
    "colab": {
      "provenance": []
    },
    "kernelspec": {
      "name": "python3",
      "display_name": "Python 3"
    },
    "language_info": {
      "name": "python"
    }
  },
  "cells": [
    {
      "cell_type": "markdown",
      "source": [
        "#**OOPs ASSIGNMENT**"
      ],
      "metadata": {
        "id": "-3ur5PjUiJrh"
      }
    },
    {
      "cell_type": "markdown",
      "source": [
        "##**THEORY QUESTIONS**"
      ],
      "metadata": {
        "id": "6QNwruFSiQnI"
      }
    },
    {
      "cell_type": "markdown",
      "source": [
        "**1. What is Object-Oriented Programming (OOP)?**\n",
        "  -  OOPS  stand for object-oriented programming system. Object-oriented programming is a computer programming model that organizes software design around objects, or data, instead of logic and functions. In OOP, objects are created from templates called classes, which define the behavior and properties of the objects they create."
      ],
      "metadata": {
        "id": "6H7Ik7KZiXvd"
      }
    },
    {
      "cell_type": "markdown",
      "source": [
        "**2. what is class in oops?**\n",
        "  -  A user-defined data type that describes the nature of an object. A class includes a declaration and definition, which can be split into separate files.\n",
        "A class can define the types of operations, or methods, that can be performed on an object."
      ],
      "metadata": {
        "id": "8kfzqp2ci6gZ"
      }
    },
    {
      "cell_type": "markdown",
      "source": [
        "**3.what is an object in oops?**\n",
        "  - A single instance of a class, created with specifically defined data. Objects can represent real-world entities, such as a car or book, or abstract entities"
      ],
      "metadata": {
        "id": "pOb5efwNjHoy"
      }
    },
    {
      "cell_type": "markdown",
      "source": [
        "**4.what is a difference between abstraction and encapsulation?**\n",
        "  - Abstraction is a fundamental concept in Python programming that allows us to simplify complex concepts and focus on the essential details. It involves hiding unnecessary details and exposing only the relevant information to the users.\n",
        "  -Encapsulation is one of the fundamental concept of object oriented programming system which means bundling of data and method of a classs."
      ],
      "metadata": {
        "id": "h-br3oMAjVUK"
      }
    },
    {
      "cell_type": "markdown",
      "source": [
        "**5.what are dunder methods in python?**\n",
        "  - Dunder methods, also known as magic methods or special methods, are predefined methods in Python that have double underscores  at the beginning and end of their names. These methods provide a way to define specific behaviors for built-in operations or functionalities in Python classes."
      ],
      "metadata": {
        "id": "4m2NvT_1jqV6"
      }
    },
    {
      "cell_type": "markdown",
      "source": [
        "**6.explain the concept of inheritance in python.**\n",
        "- Inheritance in Python is a feature that allows a class to inherit the properties and methods of another class. This allows to reuse code and write it once instead of copying it for each class that needs it."
      ],
      "metadata": {
        "id": "Mi22K2lLj1zG"
      }
    },
    {
      "cell_type": "markdown",
      "source": [
        "**7.what is polymorphism in python?**\n",
        "  - Polymorphism is a fundamental concept in object-oriented programming in Python that allows a single type of entity to represent many types in different contexts.poly means many nad phormism means forms."
      ],
      "metadata": {
        "id": "HgBWa_zpj-Jq"
      }
    },
    {
      "cell_type": "markdown",
      "source": [
        "**8.how is encapsulation achieved in python?**\n",
        "  - In Python, encapsulation is achieved by using access modifiers to restrict access to a class's variables and methods:\n",
        "- Public:\n",
        "By default, all attributes and methods in a Python class are public and can be accessed from outside the class.\n",
        "- Private:\n",
        "To define a private variable, add two underscores as a prefix at the start of a variable name. Private members are only accessible within the class.\n",
        "- Protected:\n",
        "To indicate that an attribute is meant for internal use only within the class and its subclass, use a single underscore as a prefix."
      ],
      "metadata": {
        "id": "KGDjhHwRkBUY"
      }
    },
    {
      "cell_type": "markdown",
      "source": [
        "**9.what is a constructor in python?**\n",
        "  - A constructor in Python is a special method that initializes an object by assigning values to its data members when it's created."
      ],
      "metadata": {
        "id": "Ip0gOiFWkHsA"
      }
    },
    {
      "cell_type": "markdown",
      "source": [
        "**10.what are class and static methods in python?**\n",
        "  - A class method takes cls as the first parameter while a static method needs no specific parameters. A class method can access or modify the class state\n",
        "while a static method can't access or modify it. In general, static methods know nothing about the class state."
      ],
      "metadata": {
        "id": "D3m0siwLkNW_"
      }
    },
    {
      "cell_type": "markdown",
      "source": [
        "**11.what is method overloading in python?**\n",
        "  - Two or more methods have the same name but different numbers of parameters or different types of parameters, or both. These methods are called overloaded methods and this is called method overloading."
      ],
      "metadata": {
        "id": "fdOvXa5-k3R8"
      }
    },
    {
      "cell_type": "markdown",
      "source": [
        "**12.what is method overriding in oops?**\n",
        "  - Method overriding in Python occurs when a child class defines a method that has the same name and parameters as a method in its parent class.\n",
        "The child class method overrides or replaces the parent class method when called on an instance of the child class."
      ],
      "metadata": {
        "id": "vFsrfsVFmXRu"
      }
    },
    {
      "cell_type": "markdown",
      "source": [
        "**13.what is property decorator in python?**\n",
        "  - The decorator is a built-in Python decorator that allows you to turn class methods into properties in a way that's both elegant and user-friendly."
      ],
      "metadata": {
        "id": "cuYwtmKambCM"
      }
    },
    {
      "cell_type": "markdown",
      "source": [
        "**14. why is polymorphism important in oops?**\n",
        "   - Polymorphism allows for flexible code design and code reuse. It also enables developers to write clean, readable, and resilient code."
      ],
      "metadata": {
        "id": "pFKwYs9ZmlSV"
      }
    },
    {
      "cell_type": "markdown",
      "source": [
        "**15.what is an abstract class in python?**\n",
        "  - An abstract class is a class that cannot be instantiated on its own and is designed to be a blueprint for other classes.\n",
        " Abstract classes provide a common interface for subclasses while allowing them to provide specific implementations."
      ],
      "metadata": {
        "id": "oTWxJRcemojn"
      }
    },
    {
      "cell_type": "markdown",
      "source": [
        "**16.what are advantage of oops?**\n",
        " - Encapsulation : Encapsulation combines data and code together, which allows developers to modify the internal details of an object without affecting the external code.\n",
        "\n",
        "- Inheritance: Inheritance allows children classes to inherit properties and behaviors from the parent class, which promotes code reusability and reduces duplicate code.\n",
        "\n",
        "- Code reusability: Objects and their behaviors can be reused in different parts of an application or even across multiple projects.\n",
        "\n",
        "- Abstraction: Abstraction provides only essential information about the data to the outside world, hiding the background details or implementation.\n",
        "\n",
        "- Modularity: Modularity is achieved through encapsulation, which enhances code organization and makes it easier to debug and maintain.\n",
        "\n",
        "- Code maintenance: OOPs makes it easy for developers to incorporate new changes into the code.\n",
        "- Scalability: OOPs promotes scalability by making it easy to add new features or functionalities without changing existing code"
      ],
      "metadata": {
        "id": "-lacxZG3muSJ"
      }
    },
    {
      "cell_type": "markdown",
      "source": [
        "**17.What is the difference between a class variable and an instance variable?**\n",
        "  - Class variables: Class variables are useful for sharing data between all instances of a class, such as keeping track of the number of instances created or storing a constant value.\n",
        "  - Instance variables: Each instantiated object of a class has its own copy of an instance variable. Instance variables are useful for storing data that is specific to each instance, such as a person's name or age."
      ],
      "metadata": {
        "id": "EwY1z7O5m0f5"
      }
    },
    {
      "cell_type": "markdown",
      "source": [
        "**18.what is multiple inheritance in python?**\n",
        "  - If a child class is inheriting the properties of a single other class, we call it single inheritance. However, if a child class inherits from more\n",
        " than one class, i.e. this child class is derived from multiple classes, we call it multiple inheritance in Python."
      ],
      "metadata": {
        "id": "2oyZCvARm4ON"
      }
    },
    {
      "cell_type": "markdown",
      "source": [
        "**19. Explain the purpose of ‘’str’ and ‘repr’ ‘ methods in Python?**\n",
        "  - str: Returns a human-readable string representation of an object. It's called by the print(), str(), and format() functions. The goal of __str__ is to make the output readable and user-friendly.\n",
        "  -repr: Returns an unambiguous string representation of an object. It's called by the repr() function. The goal of __repr__ is to make the output clear and informative, often including enough information to recreate the object."
      ],
      "metadata": {
        "id": "wRojRjWOm77e"
      }
    },
    {
      "cell_type": "markdown",
      "source": [
        "**20.What is the significance of the ‘super()’ function in Python?**\n",
        "  - The super() function in Python is a built-in function that allows you to access methods and properties of a parent class from a child class.\n",
        "  - This is useful when working with inheritance in object-oriented programming."
      ],
      "metadata": {
        "id": "2mJ6Mu_Rm_Ml"
      }
    },
    {
      "cell_type": "markdown",
      "source": [
        "**21. What is the significance of the del method in Python?**\n",
        "  - The del method in Python is a destructor method that's called when an object is about to be destroyed. It's used to\n",
        "Perform cleanup actions, such as closing files or releasing locks."
      ],
      "metadata": {
        "id": "WzmRftSTomW1"
      }
    },
    {
      "cell_type": "markdown",
      "source": [
        "**22.What is the difference between @staticmethod and @classmethod in Python?**\n",
        "  - While a static method requires no specific parameters, a class method takes cls as its first argument. While a static method cannot access or modify\n",
        "the class state, a class method can. Static methods are typically unaware of the class state."
      ],
      "metadata": {
        "id": "LnBo66MUorF8"
      }
    },
    {
      "cell_type": "markdown",
      "source": [
        "**23. How does polymorphism work in Python with inheritance?**\n",
        "  - Polymorphism, a child class method is allowed to have the same name as the class methods in the parent class. In inheritance, the methods belonging\n",
        "to the parent class are passed down to the child class. It's also possible to change a method that a child class has inherited from its parent"
      ],
      "metadata": {
        "id": "18TvnwYCouOP"
      }
    },
    {
      "cell_type": "markdown",
      "source": [
        "**24.What is method chaining in Python OOP?**\n",
        "  - Method chaining is a powerful technique in Python that enables us to perform a sequence of operations on an object in a concise and readable manner."
      ],
      "metadata": {
        "id": "dqfEo70coxZ_"
      }
    },
    {
      "cell_type": "markdown",
      "source": [
        "**25.What is the purpose of the call method in Python?**\n",
        "  - The call method makes instances of a class callable, allowing them to be treated and executed like functions. This enhances the versatility of\n",
        " Python's object-oriented programming paradigm"
      ],
      "metadata": {
        "id": "LOGmmgQno3R6"
      }
    },
    {
      "cell_type": "markdown",
      "source": [
        "#**PRACTICAL QUESTIONS**"
      ],
      "metadata": {
        "id": "hAsNL8AHquRx"
      }
    },
    {
      "cell_type": "markdown",
      "source": [
        "**1.Create a parent class Animal with a method speak() that prints a generic message. Create a child class Dog that overrides the speak() method to print \"Bark!\".**"
      ],
      "metadata": {
        "id": "R0NhmQpjq0BY"
      }
    },
    {
      "cell_type": "code",
      "source": [
        "class animal:\n",
        "  def speak(self):\n",
        "    print(\"this is generic message\")\n",
        "class dog(animal):\n",
        "  def speak(self):\n",
        "    print(\"bark!\")\n",
        "obj=animal()\n",
        "obj.speak()"
      ],
      "metadata": {
        "colab": {
          "base_uri": "https://localhost:8080/"
        },
        "id": "gUUDoSx2sSVm",
        "outputId": "b2c1a1a0-10ad-49b3-8ce6-26db75355041"
      },
      "execution_count": null,
      "outputs": [
        {
          "output_type": "stream",
          "name": "stdout",
          "text": [
            "this is generic message\n"
          ]
        }
      ]
    },
    {
      "cell_type": "code",
      "source": [
        "obj2=dog()\n",
        "obj2.speak()"
      ],
      "metadata": {
        "colab": {
          "base_uri": "https://localhost:8080/"
        },
        "id": "xgBNHH9usatI",
        "outputId": "4484248a-e567-4f04-e2ff-3b2a1d854baf"
      },
      "execution_count": null,
      "outputs": [
        {
          "output_type": "stream",
          "name": "stdout",
          "text": [
            "bark!\n"
          ]
        }
      ]
    },
    {
      "cell_type": "markdown",
      "source": [
        "**2. Write a program to create an abstract class Shape with a method area(). Derive classes Circle and Rectangle from it and implement the area() method in both.**"
      ],
      "metadata": {
        "id": "I1D-xc-jsMUl"
      }
    },
    {
      "cell_type": "code",
      "source": [
        "from abc import ABC, abstractmethod\n",
        "import math\n",
        "\n",
        "class Shape(ABC):\n",
        "    @abstractmethod\n",
        "    def area(self):\n",
        "        pass\n",
        "\n",
        "class Circle(Shape):\n",
        "    def __init__(self, radius):\n",
        "        self.radius = radius\n",
        "\n",
        "    def area(self):\n",
        "        return math.pi * (self.radius ** 2)\n",
        "\n",
        "class Rectangle(Shape):\n",
        "    def __init__(self, width, height):\n",
        "        self.width = width\n",
        "        self.height = height\n",
        "\n",
        "    def area(self):\n",
        "        return self.width * self.height\n",
        "\n",
        "# Example usage\n",
        "circle = Circle(5)\n",
        "rectangle = Rectangle(4, 6)\n",
        "print(circle.area())\n"
      ],
      "metadata": {
        "colab": {
          "base_uri": "https://localhost:8080/"
        },
        "id": "0GszuEPDsIQJ",
        "outputId": "1793385e-2f9d-4045-abb5-35eb72229e00"
      },
      "execution_count": null,
      "outputs": [
        {
          "output_type": "stream",
          "name": "stdout",
          "text": [
            "78.53981633974483\n"
          ]
        }
      ]
    },
    {
      "cell_type": "code",
      "source": [
        "print(rectangle.area())"
      ],
      "metadata": {
        "colab": {
          "base_uri": "https://localhost:8080/"
        },
        "id": "MMRda9pPsyR-",
        "outputId": "2a6d47ed-b9a6-4f59-c05d-968f06d080ec"
      },
      "execution_count": null,
      "outputs": [
        {
          "output_type": "stream",
          "name": "stdout",
          "text": [
            "24\n"
          ]
        }
      ]
    },
    {
      "cell_type": "markdown",
      "source": [
        "**3.Implement a multilevel inheritance where a class vehicle has an attribute type.**\n",
        "**Derive and further derive a class electriccar that adds a battery attribute**\n"
      ],
      "metadata": {
        "id": "kklfHZOvs6jg"
      }
    },
    {
      "cell_type": "code",
      "source": [
        "class Vehicle:\n",
        "    def __init__(self, type):\n",
        "        self.type = type\n",
        "\n",
        "class Car(Vehicle):\n",
        "    def __init__(self, type, model):\n",
        "        super().__init__(type)\n",
        "        self.model = model\n",
        "\n",
        "class ElectricCar(Car):\n",
        "    def __init__(self, type, model, battery):\n",
        "        super().__init__(type, model)\n",
        "        self.battery = battery\n",
        "\n",
        "# Example usage\n",
        "electric_car = ElectricCar(\"Electric\", \"Tesla Model S\", \"100 kWh\")\n",
        "print(electric_car.type, electric_car.model, electric_car.battery)"
      ],
      "metadata": {
        "colab": {
          "base_uri": "https://localhost:8080/"
        },
        "id": "f3B_qR0HtV4p",
        "outputId": "0b631248-9416-4329-dd67-a948744fccaa"
      },
      "execution_count": null,
      "outputs": [
        {
          "output_type": "stream",
          "name": "stdout",
          "text": [
            "Electric Tesla Model S 100 kWh\n"
          ]
        }
      ]
    },
    {
      "cell_type": "markdown",
      "source": [
        "**4. Demonstrate polymorphism by creating a base class Bird with a method fly(). Create two derived classes Sparrow and Penguin that override the fly() method.**"
      ],
      "metadata": {
        "id": "VPQJJY04tqKy"
      }
    },
    {
      "cell_type": "code",
      "source": [
        "class Bird:\n",
        "    def fly(self):\n",
        "        pass\n",
        "\n",
        "class Sparrow(Bird):\n",
        "    def fly(self):\n",
        "        print(\"Sparrow flies high.\")\n",
        "\n",
        "class Penguin(Bird):\n",
        "    def fly(self):\n",
        "        print(\"Penguins can't fly.\")\n",
        "\n",
        "# Example usage\n",
        "sparrow = Sparrow()\n",
        "penguin = Penguin()\n",
        "sparrow.fly()\n",
        "penguin.fly()"
      ],
      "metadata": {
        "colab": {
          "base_uri": "https://localhost:8080/"
        },
        "id": "7JBHMlKLt1FP",
        "outputId": "e480fbc7-9c9c-473f-b3b3-6168af0c9ebd"
      },
      "execution_count": null,
      "outputs": [
        {
          "output_type": "stream",
          "name": "stdout",
          "text": [
            "Sparrow flies high.\n",
            "Penguins can't fly.\n"
          ]
        }
      ]
    },
    {
      "cell_type": "markdown",
      "source": [
        "**5.Write a program to demonstrate encapsulation by creating a class BankAccount with private attributes balance and methods to deposit, withdraw, and check balance.**"
      ],
      "metadata": {
        "id": "Mm_7UA4fvE5E"
      }
    },
    {
      "cell_type": "code",
      "source": [
        "class BankAccount:\n",
        "    def __init__(self):\n",
        "        self.__balance = 0\n",
        "\n",
        "    def deposit(self, amount):\n",
        "        if amount > 0:\n",
        "            self.__balance += amount\n",
        "\n",
        "    def withdraw(self, amount):\n",
        "        if 0 < amount <= self.__balance:\n",
        "            self.__balance -= amount\n",
        "\n",
        "    def check_balance(self):\n",
        "        return self.__balance\n",
        "\n",
        "# Example usage\n",
        "account = BankAccount()\n",
        "account.deposit(100)\n",
        "account.withdraw(30)\n",
        "print(account.check_balance())"
      ],
      "metadata": {
        "colab": {
          "base_uri": "https://localhost:8080/"
        },
        "id": "nnuAkgPRs0as",
        "outputId": "7af1bb74-bf82-4d7d-8cfe-7a44fc58a525"
      },
      "execution_count": null,
      "outputs": [
        {
          "output_type": "stream",
          "name": "stdout",
          "text": [
            "70\n"
          ]
        }
      ]
    },
    {
      "cell_type": "markdown",
      "source": [
        "**6.Demonstrate runtime polymorphism using a method play() in a base class Instrument. Derive classes Guitar and Piano that implement their own version of play().**"
      ],
      "metadata": {
        "id": "RAETy3ncvhdr"
      }
    },
    {
      "cell_type": "code",
      "source": [
        "class Instrument:\n",
        "    def play(self):\n",
        "        pass\n",
        "\n",
        "class Guitar(Instrument):\n",
        "    def play(self):\n",
        "        print(\"Strumming the guitar.\")\n",
        "\n",
        "class Piano(Instrument):\n",
        "    def play(self):\n",
        "        print(\"Playing the piano.\")\n",
        "\n",
        "# Example usage\n",
        "instruments = [Guitar(), Piano()]\n",
        "for instrument in instruments:\n",
        "    instrument.play()"
      ],
      "metadata": {
        "colab": {
          "base_uri": "https://localhost:8080/"
        },
        "id": "D8prcfj9vbvV",
        "outputId": "938634f8-f44c-48c8-8df7-d5364636f821"
      },
      "execution_count": null,
      "outputs": [
        {
          "output_type": "stream",
          "name": "stdout",
          "text": [
            "Strumming the guitar.\n",
            "Playing the piano.\n"
          ]
        }
      ]
    },
    {
      "cell_type": "markdown",
      "source": [
        "**7.Create a class MathOperations with a class method add_numbers() to add two numbers and a static method subtract_numbers() to subtract two numbers.**\n",
        "\n"
      ],
      "metadata": {
        "id": "yUBSPBcovxnI"
      }
    },
    {
      "cell_type": "code",
      "source": [
        "class MathOperations:\n",
        "    @classmethod\n",
        "    def add_numbers(cls, a, b):\n",
        "        return a + b\n",
        "\n",
        "    @staticmethod\n",
        "    def subtract_numbers(a, b):\n",
        "        return a - b\n",
        "\n",
        "# Example usage\n",
        "print(MathOperations.add_numbers(5, 3))\n",
        "print(MathOperations.subtract_numbers(5, 3))"
      ],
      "metadata": {
        "colab": {
          "base_uri": "https://localhost:8080/"
        },
        "id": "296ZqdOcvssE",
        "outputId": "160bd928-408e-4b18-d646-c73cb538c75c"
      },
      "execution_count": null,
      "outputs": [
        {
          "output_type": "stream",
          "name": "stdout",
          "text": [
            "8\n",
            "2\n"
          ]
        }
      ]
    },
    {
      "cell_type": "markdown",
      "source": [
        "**8.Implement a class Person with a class method to count the total number of persons created.**"
      ],
      "metadata": {
        "id": "tn0Myxv6wIYw"
      }
    },
    {
      "cell_type": "code",
      "source": [
        "class Person:\n",
        "    count = 0\n",
        "\n",
        "    def __init__(self):\n",
        "        Person.count += 1\n",
        "\n",
        "    @classmethod\n",
        "    def total_persons(cls):\n",
        "        return cls.count\n",
        "\n",
        "# Example usage\n",
        "p1 = Person()\n",
        "p2 = Person()\n",
        "print(Person.total_persons())"
      ],
      "metadata": {
        "colab": {
          "base_uri": "https://localhost:8080/"
        },
        "id": "2YfjZiLpv9Gu",
        "outputId": "22764e81-9106-4676-a94a-f16c30e2cef3"
      },
      "execution_count": null,
      "outputs": [
        {
          "output_type": "stream",
          "name": "stdout",
          "text": [
            "2\n"
          ]
        }
      ]
    },
    {
      "cell_type": "markdown",
      "source": [
        "**9.Write a class Fraction with attributes numerator and denominator. Override the str method to display the fraction as \"numerator/denominator\".**"
      ],
      "metadata": {
        "id": "21QK4wXBwceq"
      }
    },
    {
      "cell_type": "code",
      "source": [
        "class Fraction:\n",
        "    def __init__(self, numerator, denominator):\n",
        "        self.numerator = numerator\n",
        "        self.denominator = denominator\n",
        "\n",
        "    def __str__(self):\n",
        "        return f\"{self.numerator}/{self.denominator}\"\n",
        "\n",
        "# Example usage\n",
        "fraction = Fraction(3, 4)\n",
        "print(fraction)"
      ],
      "metadata": {
        "colab": {
          "base_uri": "https://localhost:8080/"
        },
        "id": "BPrG-FzTwT1u",
        "outputId": "afde834d-d34c-4ff5-8e24-58b376af0451"
      },
      "execution_count": null,
      "outputs": [
        {
          "output_type": "stream",
          "name": "stdout",
          "text": [
            "3/4\n"
          ]
        }
      ]
    },
    {
      "cell_type": "markdown",
      "source": [
        "**10.Demonstrate operator overloading by creating a class Vector and overriding the add method to add two vectors.**\n",
        "\n"
      ],
      "metadata": {
        "id": "AylVSCDOw0Gd"
      }
    },
    {
      "cell_type": "code",
      "source": [
        "class Vector:\n",
        "    def __init__(self, x, y):\n",
        "        self.x = x\n",
        "        self.y = y\n",
        "\n",
        "    def __add__(self, other):\n",
        "        return Vector(self.x + other.x, self.y + other.y)\n",
        "\n",
        "    def __str__(self):\n",
        "        return f\"Vector({self.x}, {self.y})\"\n",
        "\n",
        "# Example usage\n",
        "v1 = Vector(2, 3)\n",
        "v2 = Vector(4, 5)\n",
        "v3 = v1 + v2\n",
        "print(v3)"
      ],
      "metadata": {
        "colab": {
          "base_uri": "https://localhost:8080/"
        },
        "id": "G8_cW1JywyUd",
        "outputId": "f80953c4-ffda-4aff-8774-ac09e2ad91b9"
      },
      "execution_count": null,
      "outputs": [
        {
          "output_type": "stream",
          "name": "stdout",
          "text": [
            "Vector(6, 8)\n"
          ]
        }
      ]
    },
    {
      "cell_type": "markdown",
      "source": [
        "**11.Create a class Person with attributes name and age. Add a method greet() that prints \"Hello, my name is {name} and I am {age} years old.\"**"
      ],
      "metadata": {
        "id": "KuJwktC8xLeL"
      }
    },
    {
      "cell_type": "code",
      "source": [
        "class Person:\n",
        "    def __init__(self, name, age):\n",
        "        self.name = name\n",
        "        self.age = age\n",
        "\n",
        "    def greet(self):\n",
        "        print(f\"Hello, my name is {self.name} and I am {self.age} years old.\")\n",
        "\n",
        "# Example usage\n",
        "person = Person(\"pinky\", 24)\n",
        "person.greet()"
      ],
      "metadata": {
        "colab": {
          "base_uri": "https://localhost:8080/"
        },
        "id": "MKMQOwgvxGK9",
        "outputId": "1f4da786-895f-48eb-e6a9-31e20523eebb"
      },
      "execution_count": 1,
      "outputs": [
        {
          "output_type": "stream",
          "name": "stdout",
          "text": [
            "Hello, my name is pinky and I am 24 years old.\n"
          ]
        }
      ]
    },
    {
      "cell_type": "markdown",
      "source": [
        "**12.Implement a class Student with attributes name and grades. Create a method average_grade() to compute the average of the grades.**"
      ],
      "metadata": {
        "id": "EljYghvxxdPU"
      }
    },
    {
      "cell_type": "code",
      "source": [
        "class Student:\n",
        "    def __init__(self, name):\n",
        "        self.name = name\n",
        "        self.grades = []\n",
        "\n",
        "    def add_grade(self, grade):\n",
        "        self.grades.append(grade)\n",
        "\n",
        "    def average_grade(self):\n",
        "        if not self.grades:\n",
        "            return 0\n",
        "        return sum(self.grades) / len(self.grades)\n",
        "\n",
        "# Example usage\n",
        "student = Student(\"Bob\")\n",
        "student.add_grade(85)\n",
        "student.add_grade(90)\n",
        "student.add_grade(78)\n",
        "print(student.average_grade())"
      ],
      "metadata": {
        "colab": {
          "base_uri": "https://localhost:8080/"
        },
        "id": "toKRQM6Lxldh",
        "outputId": "c781afd4-dd0a-49f0-995d-3f03e30814fb"
      },
      "execution_count": null,
      "outputs": [
        {
          "output_type": "stream",
          "name": "stdout",
          "text": [
            "84.33333333333333\n"
          ]
        }
      ]
    },
    {
      "cell_type": "markdown",
      "source": [
        "**13.Create a class Rectangle with methods set_dimensions() to set the dimensions and area() to calculate the area.**"
      ],
      "metadata": {
        "id": "YNMD_9W3xuE_"
      }
    },
    {
      "cell_type": "code",
      "source": [
        "class Rectangle:\n",
        "    def __init__(self):\n",
        "        self.width = 0\n",
        "        self.height = 0\n",
        "\n",
        "    def set_dimensions(self, width, height):\n",
        "        self.width = width\n",
        "        self.height = height\n",
        "\n",
        "    def area(self):\n",
        "        return self.width * self.height\n",
        "\n",
        "# Example usage\n",
        "rectangle = Rectangle()\n",
        "rectangle.set_dimensions(4, 5)\n",
        "print(rectangle.area())"
      ],
      "metadata": {
        "colab": {
          "base_uri": "https://localhost:8080/"
        },
        "id": "HdR1h8QBx2ON",
        "outputId": "2fee53eb-8384-4a16-bc9e-663e27f5600a"
      },
      "execution_count": null,
      "outputs": [
        {
          "output_type": "stream",
          "name": "stdout",
          "text": [
            "20\n"
          ]
        }
      ]
    },
    {
      "cell_type": "markdown",
      "source": [
        "**14.Create a class Employee with a method calculate_salary() that computes the salary based on hours worked and hourly rate. Create a derived class Manager that adds a bonus to the salary.**"
      ],
      "metadata": {
        "id": "6zCKn-cQx-ku"
      }
    },
    {
      "cell_type": "code",
      "source": [
        "class Employee:\n",
        "    def __init__(self, hours_worked, hourly_rate):\n",
        "        self.hours_worked = hours_worked\n",
        "        self.hourly_rate = hourly_rate\n",
        "\n",
        "    def calculate_salary(self):\n",
        "        return self.hours_worked * self.hourly_rate\n",
        "\n",
        "class Manager(Employee):\n",
        "    def __init__(self, hours_worked, hourly_rate, bonus):\n",
        "        super().__init__(hours_worked, hourly_rate)\n",
        "        self.bonus = bonus\n",
        "\n",
        "    def calculate_salary(self):\n",
        "        return super().calculate_salary() + self.bonus\n",
        "\n",
        "# Example usage\n",
        "employee = Employee(40, 20)\n",
        "print(employee.calculate_salary())\n",
        "\n",
        "manager = Manager(40, 20, 200)\n",
        "print(manager.calculate_salary())"
      ],
      "metadata": {
        "colab": {
          "base_uri": "https://localhost:8080/"
        },
        "id": "0d_yMo_Ix7L3",
        "outputId": "ff8d92cd-c675-47f0-c9ac-1e2389f5fa6c"
      },
      "execution_count": null,
      "outputs": [
        {
          "output_type": "stream",
          "name": "stdout",
          "text": [
            "800\n",
            "1000\n"
          ]
        }
      ]
    },
    {
      "cell_type": "markdown",
      "source": [
        "**15.Create a class Product with attributes name, price, and quantity. Implement a method total_price() that calculates the total price of the product.**\n"
      ],
      "metadata": {
        "id": "8AJH1Cg6yMwJ"
      }
    },
    {
      "cell_type": "code",
      "source": [
        "class Product:\n",
        "    def __init__(self, name, price, quantity):\n",
        "        self.name = name\n",
        "        self.price = price\n",
        "        self.quantity = quantity\n",
        "\n",
        "    def total_price(self):\n",
        "        return self.price * self.quantity\n",
        "\n",
        "# Example usage\n",
        "product = Product(\"Laptop\", 1000, 3)\n",
        "print(f\"Total price of {product.name}: ${product.total_price()}\")"
      ],
      "metadata": {
        "colab": {
          "base_uri": "https://localhost:8080/"
        },
        "id": "KAHOZ5DRyKDF",
        "outputId": "3c9cf279-b4e0-4e35-9633-1a8a7ede561c"
      },
      "execution_count": null,
      "outputs": [
        {
          "output_type": "stream",
          "name": "stdout",
          "text": [
            "Total price of Laptop: $3000\n"
          ]
        }
      ]
    },
    {
      "cell_type": "markdown",
      "source": [
        "**16.Create a class Animal with an abstract method sound(). Create two derived classes Cow and Sheep that implement the sound() method.**\n"
      ],
      "metadata": {
        "id": "n867T_eJyw4S"
      }
    },
    {
      "cell_type": "code",
      "source": [
        "from abc import ABC, abstractmethod\n",
        "\n",
        "class Animal(ABC):\n",
        "    @abstractmethod\n",
        "    def sound(self):\n",
        "        pass\n",
        "\n",
        "class Cow(Animal):\n",
        "    def sound(self):\n",
        "        return \"Moo\"\n",
        "\n",
        "class Sheep(Animal):\n",
        "    def sound(self):\n",
        "        return \"Baa\"\n",
        "\n",
        "# Example usage\n",
        "cow = Cow()\n",
        "sheep = Sheep()\n",
        "print(cow.sound())\n",
        "print(sheep.sound())"
      ],
      "metadata": {
        "colab": {
          "base_uri": "https://localhost:8080/"
        },
        "id": "1pyXVshdyrH4",
        "outputId": "05c9b0e2-725e-4675-da4d-151b9294be36"
      },
      "execution_count": null,
      "outputs": [
        {
          "output_type": "stream",
          "name": "stdout",
          "text": [
            "Moo\n",
            "Baa\n"
          ]
        }
      ]
    },
    {
      "cell_type": "markdown",
      "source": [
        "**17.Create a class Book with attributes title, author, and year_published. Add a method get_book_info() that returns a formatted string with the book's details.**"
      ],
      "metadata": {
        "id": "sqr5Sn5DzGSp"
      }
    },
    {
      "cell_type": "code",
      "source": [
        "class Book:\n",
        "    def __init__(self, title, author, year_published):\n",
        "        self.title = title\n",
        "        self.author = author\n",
        "        self.year_published = year_published\n",
        "\n",
        "    def get_book_info(self):\n",
        "        return f\"'{self.title}' by {self.author}, published in {self.year_published}\"\n",
        "\n",
        "# Example usage\n",
        "book = Book(\"1984\", \"George Orwell\", 1949)\n",
        "print(book.get_book_info())"
      ],
      "metadata": {
        "colab": {
          "base_uri": "https://localhost:8080/"
        },
        "id": "PTWJu2M9zDaz",
        "outputId": "efd44322-7612-4c31-d466-9649c144e190"
      },
      "execution_count": null,
      "outputs": [
        {
          "output_type": "stream",
          "name": "stdout",
          "text": [
            "'1984' by George Orwell, published in 1949\n"
          ]
        }
      ]
    },
    {
      "cell_type": "markdown",
      "source": [
        "**18. Create a class House with attributes address and price. Create a derived class Mansion that adds an attribute number_of_rooms.**"
      ],
      "metadata": {
        "id": "cpWBqfbRzafr"
      }
    },
    {
      "cell_type": "code",
      "source": [
        "class House:\n",
        "    def __init__(self, address, price):\n",
        "        self.address = address\n",
        "        self.price = price\n",
        "\n",
        "class Mansion(House):\n",
        "    def __init__(self, address, price, number_of_rooms):\n",
        "        super().__init__(address, price)\n",
        "        self.number_of_rooms = number_of_rooms\n",
        "\n",
        "# Example usage\n",
        "mansion = Mansion(\"123 Luxury Lane\", 10000, 10)\n",
        "print(f\"Mansion at {mansion.address} costs ${mansion.price} and has {mansion.number_of_rooms} rooms.\")\n"
      ],
      "metadata": {
        "colab": {
          "base_uri": "https://localhost:8080/"
        },
        "id": "_B9UiN5TzXGE",
        "outputId": "69c82bb1-4d33-4aa8-96a5-da6c68083915"
      },
      "execution_count": 2,
      "outputs": [
        {
          "output_type": "stream",
          "name": "stdout",
          "text": [
            "Mansion at 123 Luxury Lane costs $10000 and has 10 rooms.\n"
          ]
        }
      ]
    },
    {
      "cell_type": "code",
      "source": [],
      "metadata": {
        "id": "t2EV9uMozmx9"
      },
      "execution_count": null,
      "outputs": []
    }
  ]
}